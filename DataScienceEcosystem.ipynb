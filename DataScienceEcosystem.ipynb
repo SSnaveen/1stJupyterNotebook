{
 "cells": [
  {
   "cell_type": "markdown",
   "id": "d310f940-6ff3-4ad3-86dd-945561908d26",
   "metadata": {},
   "source": [
    "# Data Science Tools and Ecosystem #"
   ]
  },
  {
   "cell_type": "markdown",
   "id": "14b1521b-dbcb-4fe2-8542-eea1fe027b92",
   "metadata": {
    "tags": []
   },
   "source": [
    "In this notebook, Data Science Tools and Ecosystem are summarized."
   ]
  },
  {
   "cell_type": "markdown",
   "id": "ea003524-0575-436b-aae6-7cc822e3fc5c",
   "metadata": {},
   "source": [
    "Some of the popular languages that Data Scientists use are:\n",
    "1. Python\n",
    "2. R\n",
    "3. SQL"
   ]
  },
  {
   "cell_type": "markdown",
   "id": "256bf67a-07c6-496c-b2bc-446defdf3a0b",
   "metadata": {},
   "source": [
    "Some of the commonly used libraries used by Data Scientists include:\n",
    "1. Numpy\n",
    "2. Pandas\n",
    "3. Dplyr"
   ]
  },
  {
   "cell_type": "markdown",
   "id": "3fdfb57a-183b-4f37-b2b4-726cba8b2888",
   "metadata": {},
   "source": [
    "| Data Science Tools |\n",
    "| ----- |\n",
    "| RStudio |\n",
    "| Apache Spark |\n",
    "| TensorFlow |"
   ]
  },
  {
   "cell_type": "markdown",
   "id": "24df011e-adc4-438e-aa37-536d65e9367b",
   "metadata": {},
   "source": [
    "### Below are a few examples of evaluating arithmetic expressions in Python. ###"
   ]
  },
  {
   "cell_type": "code",
   "execution_count": 2,
   "id": "31bbf7cf-b3fb-431e-ac1e-8bd0f2d3f362",
   "metadata": {
    "tags": []
   },
   "outputs": [
    {
     "name": "stdout",
     "output_type": "stream",
     "text": [
      "15\n",
      "5\n",
      "50\n"
     ]
    }
   ],
   "source": [
    "num1 = 5\n",
    "num2 = 10\n",
    "\n",
    "Addition = num1 + num2\n",
    "print(Addition)\n",
    "\n",
    "Subtraction = num2 - num1\n",
    "print(Subtraction)\n",
    "\n",
    "Multiplication = num1 * num2\n",
    "print(Multiplication)"
   ]
  },
  {
   "cell_type": "code",
   "execution_count": 3,
   "id": "28ccdbab-1d7c-445c-b0fe-4069469a010f",
   "metadata": {
    "tags": []
   },
   "outputs": [
    {
     "data": {
      "text/plain": [
       "17"
      ]
     },
     "execution_count": 3,
     "metadata": {},
     "output_type": "execute_result"
    }
   ],
   "source": [
    "#This a simple arithmetic expression to mutiply then add integers.\n",
    "(3*4)+5"
   ]
  },
  {
   "cell_type": "code",
   "execution_count": 4,
   "id": "de9f7dad-a8b2-4565-b33c-c4aeebccab88",
   "metadata": {
    "tags": []
   },
   "outputs": [
    {
     "data": {
      "text/plain": [
       "3.3333333333333335"
      ]
     },
     "execution_count": 4,
     "metadata": {},
     "output_type": "execute_result"
    }
   ],
   "source": [
    "#This will convert 200 minutes to hours by diving by 60.\n",
    "200/60"
   ]
  },
  {
   "cell_type": "markdown",
   "id": "469ce29b-a118-4c75-be80-b2b4cb0e11b5",
   "metadata": {},
   "source": [
    "**Objectives**\n",
    "* List popular languages for Data Science\n",
    "* List popular packages used in the Data Science tools\n",
    "* Introduction to Jupyter notebooks\n",
    "* Setting up Anaconda Framework\n",
    "* Introduction to Git & GitHub"
   ]
  },
  {
   "cell_type": "markdown",
   "id": "0e3d7ae5-5e13-44d5-a949-99442b233e28",
   "metadata": {},
   "source": [
    "## Author ##\n",
    "Nagasubramanian"
   ]
  },
  {
   "cell_type": "code",
   "execution_count": null,
   "id": "e22f7931-cabb-472b-8d59-1b9b92771667",
   "metadata": {},
   "outputs": [],
   "source": []
  }
 ],
 "metadata": {
  "kernelspec": {
   "display_name": "Python",
   "language": "python",
   "name": "conda-env-python-py"
  },
  "language_info": {
   "codemirror_mode": {
    "name": "ipython",
    "version": 3
   },
   "file_extension": ".py",
   "mimetype": "text/x-python",
   "name": "python",
   "nbconvert_exporter": "python",
   "pygments_lexer": "ipython3",
   "version": "3.7.12"
  }
 },
 "nbformat": 4,
 "nbformat_minor": 5
}
